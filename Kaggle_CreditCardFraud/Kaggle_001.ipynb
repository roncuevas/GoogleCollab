{
  "nbformat": 4,
  "nbformat_minor": 0,
  "metadata": {
    "colab": {
      "name": "Kaggle_001.ipynb",
      "provenance": []
    },
    "kernelspec": {
      "name": "python3",
      "display_name": "Python 3"
    },
    "language_info": {
      "name": "python"
    }
  },
  "cells": [
    {
      "cell_type": "code",
      "execution_count": 72,
      "metadata": {
        "colab": {
          "base_uri": "https://localhost:8080/"
        },
        "id": "fzWEjBEZa9AS",
        "outputId": "c612c2ff-2958-4d6a-a00a-b62e4962fdea"
      },
      "outputs": [
        {
          "output_type": "execute_result",
          "data": {
            "text/plain": [
              "(1000000, 8)"
            ]
          },
          "metadata": {},
          "execution_count": 72
        }
      ],
      "source": [
        "import pandas as pd\n",
        "import numpy as np\n",
        "from keras.layers import Dense\n",
        "from keras.models import Sequential\n",
        "from keras.callbacks import EarlyStopping\n",
        "\n",
        "df = pd.read_csv('card_transdata.csv', delimiter=',')\n",
        "df = df.to_numpy()\n",
        "type(df)\n",
        "df.shape"
      ]
    },
    {
      "cell_type": "code",
      "source": [
        "predictors = df[:,0:7]\n",
        "type(predictors)\n",
        "predictors.shape"
      ],
      "metadata": {
        "colab": {
          "base_uri": "https://localhost:8080/"
        },
        "id": "uBO08ckAcSXk",
        "outputId": "0761ad55-1360-417d-a4c9-c999827ff18b"
      },
      "execution_count": 51,
      "outputs": [
        {
          "output_type": "execute_result",
          "data": {
            "text/plain": [
              "(1000000, 7)"
            ]
          },
          "metadata": {},
          "execution_count": 51
        }
      ]
    },
    {
      "cell_type": "code",
      "source": [
        "target = df[:,7]\n",
        "target.shape"
      ],
      "metadata": {
        "colab": {
          "base_uri": "https://localhost:8080/"
        },
        "id": "zPKR035AcyDt",
        "outputId": "13869abf-7a8e-469e-a08d-21334f988413"
      },
      "execution_count": 59,
      "outputs": [
        {
          "output_type": "execute_result",
          "data": {
            "text/plain": [
              "(1000000,)"
            ]
          },
          "metadata": {},
          "execution_count": 59
        }
      ]
    },
    {
      "cell_type": "code",
      "source": [
        "nodos = predictors.shape[1]\n",
        "nodos"
      ],
      "metadata": {
        "colab": {
          "base_uri": "https://localhost:8080/"
        },
        "id": "ouAVk_2kfXB2",
        "outputId": "8ed42956-5f46-4b09-84b6-45c02a80cdd8"
      },
      "execution_count": 62,
      "outputs": [
        {
          "output_type": "execute_result",
          "data": {
            "text/plain": [
              "7"
            ]
          },
          "metadata": {},
          "execution_count": 62
        }
      ]
    },
    {
      "cell_type": "code",
      "source": [
        "model =  Sequential()\n",
        "model.add(Dense(nodos, activation='relu', input_shape=(nodos, )))\n",
        "model.add(Dense(10, activation='relu'))\n",
        "model.add(Dense(10, activation='relu'))\n",
        "model.add(Dense(2, activation='relu'))"
      ],
      "metadata": {
        "id": "Kj8g0vPbfNhy"
      },
      "execution_count": 65,
      "outputs": []
    },
    {
      "cell_type": "code",
      "source": [
        "model.compile(optimizer='adam', loss='mean_squared_error', metrics=['accuracy'])"
      ],
      "metadata": {
        "id": "VtT5C3UQgnSE"
      },
      "execution_count": 67,
      "outputs": []
    },
    {
      "cell_type": "code",
      "source": [
        "callback = EarlyStopping(monitor='loss', patience=5)"
      ],
      "metadata": {
        "id": "2I58xM-miTUY"
      },
      "execution_count": 73,
      "outputs": []
    },
    {
      "cell_type": "code",
      "source": [
        "model.fit(predictors, target, batch_size=50, epochs=20, validation_split=0.2, shuffle=1, callbacks=[callback])"
      ],
      "metadata": {
        "colab": {
          "base_uri": "https://localhost:8080/"
        },
        "id": "eXJqfpVNgzX5",
        "outputId": "00c76f87-7c8b-426b-fb8c-324eeb8bcb1c"
      },
      "execution_count": 74,
      "outputs": [
        {
          "output_type": "stream",
          "name": "stdout",
          "text": [
            "Epoch 1/20\n",
            "16000/16000 [==============================] - 37s 2ms/step - loss: 0.0049 - accuracy: 0.9511 - val_loss: 0.0036 - val_accuracy: 0.9395\n",
            "Epoch 2/20\n",
            "16000/16000 [==============================] - 41s 3ms/step - loss: 0.0049 - accuracy: 0.9484 - val_loss: 0.0043 - val_accuracy: 0.9396\n",
            "Epoch 3/20\n",
            "16000/16000 [==============================] - 37s 2ms/step - loss: 0.0047 - accuracy: 0.9506 - val_loss: 0.0037 - val_accuracy: 0.9629\n",
            "Epoch 4/20\n",
            "16000/16000 [==============================] - 41s 3ms/step - loss: 0.0045 - accuracy: 0.9499 - val_loss: 0.0047 - val_accuracy: 0.9522\n",
            "Epoch 5/20\n",
            "16000/16000 [==============================] - 36s 2ms/step - loss: 0.0043 - accuracy: 0.9445 - val_loss: 0.0027 - val_accuracy: 0.9528\n",
            "Epoch 6/20\n",
            "16000/16000 [==============================] - 37s 2ms/step - loss: 0.0038 - accuracy: 0.9398 - val_loss: 0.0021 - val_accuracy: 0.9311\n",
            "Epoch 7/20\n",
            "16000/16000 [==============================] - 36s 2ms/step - loss: 0.0036 - accuracy: 0.9353 - val_loss: 0.0041 - val_accuracy: 0.9282\n",
            "Epoch 8/20\n",
            "16000/16000 [==============================] - 36s 2ms/step - loss: 0.0037 - accuracy: 0.9318 - val_loss: 0.0026 - val_accuracy: 0.9246\n",
            "Epoch 9/20\n",
            "16000/16000 [==============================] - 36s 2ms/step - loss: 0.0039 - accuracy: 0.9324 - val_loss: 0.0045 - val_accuracy: 0.9209\n",
            "Epoch 10/20\n",
            "16000/16000 [==============================] - 41s 3ms/step - loss: 0.0037 - accuracy: 0.9302 - val_loss: 0.0023 - val_accuracy: 0.9468\n",
            "Epoch 11/20\n",
            "16000/16000 [==============================] - 37s 2ms/step - loss: 0.0035 - accuracy: 0.9407 - val_loss: 0.0039 - val_accuracy: 0.9479\n",
            "Epoch 12/20\n",
            "16000/16000 [==============================] - 36s 2ms/step - loss: 0.0035 - accuracy: 0.9513 - val_loss: 0.0032 - val_accuracy: 0.9588\n",
            "Epoch 13/20\n",
            "16000/16000 [==============================] - 41s 3ms/step - loss: 0.0033 - accuracy: 0.9493 - val_loss: 0.0025 - val_accuracy: 0.9639\n",
            "Epoch 14/20\n",
            "16000/16000 [==============================] - 41s 3ms/step - loss: 0.0035 - accuracy: 0.9477 - val_loss: 0.0042 - val_accuracy: 0.9477\n",
            "Epoch 15/20\n",
            "16000/16000 [==============================] - 41s 3ms/step - loss: 0.0033 - accuracy: 0.9390 - val_loss: 0.0022 - val_accuracy: 0.9265\n",
            "Epoch 16/20\n",
            "16000/16000 [==============================] - 37s 2ms/step - loss: 0.0032 - accuracy: 0.9347 - val_loss: 0.0032 - val_accuracy: 0.9391\n",
            "Epoch 17/20\n",
            "16000/16000 [==============================] - 41s 3ms/step - loss: 0.0032 - accuracy: 0.9400 - val_loss: 0.0027 - val_accuracy: 0.9425\n",
            "Epoch 18/20\n",
            "16000/16000 [==============================] - 41s 3ms/step - loss: 0.0032 - accuracy: 0.9352 - val_loss: 0.0026 - val_accuracy: 0.9405\n",
            "Epoch 19/20\n",
            "16000/16000 [==============================] - 39s 2ms/step - loss: 0.0031 - accuracy: 0.9336 - val_loss: 0.0026 - val_accuracy: 0.9434\n",
            "Epoch 20/20\n",
            "16000/16000 [==============================] - 41s 3ms/step - loss: 0.0029 - accuracy: 0.9334 - val_loss: 0.0022 - val_accuracy: 0.9182\n"
          ]
        },
        {
          "output_type": "execute_result",
          "data": {
            "text/plain": [
              "<keras.callbacks.History at 0x7f6633cfa710>"
            ]
          },
          "metadata": {},
          "execution_count": 74
        }
      ]
    },
    {
      "cell_type": "code",
      "source": [
        "model.save(\"modelvsfraud.h5\")"
      ],
      "metadata": {
        "id": "9xS_TzWelptH"
      },
      "execution_count": 75,
      "outputs": []
    }
  ]
}